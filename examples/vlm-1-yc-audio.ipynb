{
  "cells": [
    {
      "cell_type": "code",
      "execution_count": null,
      "metadata": {
        "id": "22bw84y5mIoZ"
      },
      "outputs": [],
      "source": [
        "# Install dependencies if needed\n",
        "# The torch-nos package provides tools for reading videos\n",
        "!pip install requests Pillow torch-nos pytube\n",
        "!conda install loguru -y"
      ]
    },
    {
      "cell_type": "code",
      "execution_count": null,
      "metadata": {
        "id": "gpuWmpf8mIoa"
      },
      "outputs": [],
      "source": [
        "import os\n",
        "import requests\n",
        "\n",
        "\n",
        "VLM_BASE_URL = \"https://vlm-dev.nos.run/v1\"\n",
        "response = requests.get(f\"{VLM_BASE_URL}/health\")\n",
        "response.raise_for_status()\n",
        "assert response.status_code == 200"
      ]
    },
    {
      "cell_type": "code",
      "execution_count": null,
      "metadata": {
        "id": "NSLrOUE6mIoa",
        "outputId": "e2edfaeb-a10e-4613-af3f-e057510ead12"
      },
      "outputs": [],
      "source": [
        "VLM_API_KEY = os.getenv(\"VLM_API_KEY\", None)\n",
        "if VLM_API_KEY is None:\n",
        "    VLM_API_KEY = input()\n",
        "print(f\"Using API key: {VLM_API_KEY[:4]}...\")"
      ]
    },
    {
      "cell_type": "code",
      "execution_count": null,
      "metadata": {},
      "outputs": [],
      "source": [
        "def yt_playlist(playlist_url: str, start: int = 0, end: int = 100) -> list:\n",
        "    \"\"\"Get all URLs from a YouTube playlist\"\"\"\n",
        "    playlist = Playlist(playlist_url)\n",
        "    # This forces pytube to fetch all the video URLs in the playlist\n",
        "    playlist._video_regex = None\n",
        "    return list(playlist.video_urls)[start:end]"
      ]
    },
    {
      "cell_type": "code",
      "execution_count": null,
      "metadata": {},
      "outputs": [],
      "source": [
        "from IPython.display import YouTubeVideo\n",
        "\n",
        "# YC Convo\n",
        "url = \"https://www.youtube.com/watch?v=KxjPgGLVJSg\"\n",
        "YouTubeVideo(url)"
      ]
    },
    {
      "cell_type": "code",
      "execution_count": null,
      "metadata": {},
      "outputs": [],
      "source": [
        "# Test the video url -> audio API\n",
        "from fastapi import status\n",
        "import json\n",
        "\n",
        "headers = {\n",
        "    \"Content-Type\": \"application/json\",\n",
        "    \"X-API-Key\": VLM_API_KEY,\n",
        "}\n",
        "\n",
        "# Generate audio transcription\n",
        "json_data = {\n",
        "    \"url\": url,\n",
        "    \"model\": \"vlm-1\",\n",
        "    \"domain\": \"video.transcription\",\n",
        "}\n",
        "response = requests.post(f\"{VLM_BASE_URL}/video/generate\", headers=headers, json=json_data)\n",
        "assert response.status_code == status.HTTP_200_OK, f\"Response failed: {response.text}\"\n",
        "json_response = response.json()\n",
        "print(f\"Transcription: {json.dumps(json_response, indent=2)}\")"
      ]
    },
    {
      "cell_type": "code",
      "execution_count": null,
      "metadata": {},
      "outputs": [],
      "source": []
    }
  ],
  "metadata": {
    "colab": {
      "provenance": []
    },
    "kernelspec": {
      "display_name": "vlm",
      "language": "python",
      "name": "python3"
    },
    "language_info": {
      "codemirror_mode": {
        "name": "ipython",
        "version": 3
      },
      "file_extension": ".py",
      "mimetype": "text/x-python",
      "name": "python",
      "nbconvert_exporter": "python",
      "pygments_lexer": "ipython3",
      "version": "3.11.4"
    }
  },
  "nbformat": 4,
  "nbformat_minor": 0
}
